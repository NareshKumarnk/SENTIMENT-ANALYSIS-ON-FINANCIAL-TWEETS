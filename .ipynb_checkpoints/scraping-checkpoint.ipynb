{
 "cells": [
  {
   "cell_type": "code",
   "execution_count": 33,
   "id": "incorporate-milton",
   "metadata": {},
   "outputs": [],
   "source": [
    "import tweepy\n",
    "import requests\n",
    "import response\n",
    "from tweepy import Stream\n",
    "from tweepy.streaming import StreamListener\n",
    "from tweepy import OAuthHandler\n",
    "import socket\n",
    "import pandas as pd"
   ]
  },
  {
   "cell_type": "code",
   "execution_count": 77,
   "id": "accepted-wedding",
   "metadata": {},
   "outputs": [],
   "source": [
    "consumer_key='jG8CHdrg1UVFosAm00OTdMNbf'\n",
    "consumer_secret='nkSYhSteeZ8b7G0sFS1GtGwQqyoJE2MUpsOb0yejzZ9LbyJ01Y'\n",
    "access_token ='1053316990696226816-v0ne8MEmqcXvq2PtA8xtjtZNCTA1MM'\n",
    "access_secret='Qe5rEkkx1Qxv76QoY0eG3HUqK9E9Go38mJ30WbMzyq2qY'\n",
    "BEARER_TOKEN ='AAAAAAAAAAAAAAAAAAAAAIpoOgEAAAAAm2AsI5VmgF%2BIc%2BqDZbUj8VBlt3U%3DKSVBTfesrdhxJpVK63GHmDQ4lZtgIUe7TvBuLavcS0PRs0z4gH'"
   ]
  },
  {
   "cell_type": "code",
   "execution_count": 78,
   "id": "leading-tackle",
   "metadata": {},
   "outputs": [],
   "source": [
    "# Creating the authentication object\n",
    "auth = tweepy.OAuthHandler(consumer_key, consumer_secret)\n",
    "# Setting your access token and secret\n",
    "auth.set_access_token(access_token, access_secret)\n",
    "# Creating the API object while passing in auth information\n",
    "api = tweepy.API(auth) "
   ]
  },
  {
   "cell_type": "code",
   "execution_count": 114,
   "id": "unavailable-sailing",
   "metadata": {},
   "outputs": [],
   "source": [
    "# Creating the API object while passing in auth information\n",
    "api = tweepy.API(auth)\n",
    "\n",
    "# The Twitter user who we want to get tweets from\n",
    "query = \"covid\"\n",
    "# Number of tweets to pull\n",
    "tweetCount = 20\n",
    "date_since = \"2018-11-16\"\n",
    "language=\"en\"\n",
    "# Calling the user_timeline function with our parameters\n",
    "results = tweepy.Cursor(api.search,q=query, lang=language,since=date_since).items(5)"
   ]
  },
  {
   "cell_type": "code",
   "execution_count": 88,
   "id": "moving-linux",
   "metadata": {},
   "outputs": [
    {
     "data": {
      "text/plain": [
       "'RT @The_NehaJoshi: Tested positive for COVID 19 today. At home, in isolation, taking my prescribed meds &amp; thinking of all those who are goi…'"
      ]
     },
     "execution_count": 88,
     "metadata": {},
     "output_type": "execute_result"
    }
   ],
   "source": [
    "tweet.text"
   ]
  },
  {
   "cell_type": "code",
   "execution_count": 115,
   "id": "desirable-madonna",
   "metadata": {},
   "outputs": [
    {
     "data": {
      "text/plain": [
       "[['yourpraharsh',\n",
       "  'IIT Roorkee',\n",
       "  'RT @DNeurosx: If you tested positive Covid,\\nDon’t get demoralised..\\nFor every 100 positive patients, we are sending 95 Healthy and Happily…'],\n",
       " ['DPHLGhost',\n",
       "  '',\n",
       "  '@lynseymukomel @RealKyleWilson Thank you for telling social media you got your vaccine. We are awarding you a… https://t.co/G3djchh9sk'],\n",
       " ['PasiekaOnPol',\n",
       "  'Canada',\n",
       "  'RT @DLeBlancNB: Like many Canadians, in the last two years I faced cancer diagnoses. My illness left me immunocompromised, leaving me susce…'],\n",
       " ['amy_is_tired',\n",
       "  '',\n",
       "  'Another uncomfortable truth: some of the doctors treating Covid patients with such skill now will be the same indiv… https://t.co/daw3Jk9D27'],\n",
       " ['batmaneatsbabie',\n",
       "  'New Jersey',\n",
       "  '@JamesGBeattie @hayyyshayyy I still bleed through my clothing a few times a week every 29 days.  Having my period a… https://t.co/I59YT2hAID']]"
      ]
     },
     "execution_count": 115,
     "metadata": {},
     "output_type": "execute_result"
    }
   ],
   "source": [
    "data = [[tweet.user.screen_name, tweet.user.location,tweet.text] for tweet in results]\n",
    "data"
   ]
  },
  {
   "cell_type": "code",
   "execution_count": 117,
   "id": "described-gambling",
   "metadata": {},
   "outputs": [
    {
     "data": {
      "text/html": [
       "<div>\n",
       "<style scoped>\n",
       "    .dataframe tbody tr th:only-of-type {\n",
       "        vertical-align: middle;\n",
       "    }\n",
       "\n",
       "    .dataframe tbody tr th {\n",
       "        vertical-align: top;\n",
       "    }\n",
       "\n",
       "    .dataframe thead th {\n",
       "        text-align: right;\n",
       "    }\n",
       "</style>\n",
       "<table border=\"1\" class=\"dataframe\">\n",
       "  <thead>\n",
       "    <tr style=\"text-align: right;\">\n",
       "      <th></th>\n",
       "      <th>user</th>\n",
       "      <th>location</th>\n",
       "      <th>text</th>\n",
       "    </tr>\n",
       "  </thead>\n",
       "  <tbody>\n",
       "    <tr>\n",
       "      <th>0</th>\n",
       "      <td>yourpraharsh</td>\n",
       "      <td>IIT Roorkee</td>\n",
       "      <td>RT @DNeurosx: If you tested positive Covid,\\nD...</td>\n",
       "    </tr>\n",
       "    <tr>\n",
       "      <th>1</th>\n",
       "      <td>DPHLGhost</td>\n",
       "      <td></td>\n",
       "      <td>@lynseymukomel @RealKyleWilson Thank you for t...</td>\n",
       "    </tr>\n",
       "    <tr>\n",
       "      <th>2</th>\n",
       "      <td>PasiekaOnPol</td>\n",
       "      <td>Canada</td>\n",
       "      <td>RT @DLeBlancNB: Like many Canadians, in the la...</td>\n",
       "    </tr>\n",
       "    <tr>\n",
       "      <th>3</th>\n",
       "      <td>amy_is_tired</td>\n",
       "      <td></td>\n",
       "      <td>Another uncomfortable truth: some of the docto...</td>\n",
       "    </tr>\n",
       "    <tr>\n",
       "      <th>4</th>\n",
       "      <td>batmaneatsbabie</td>\n",
       "      <td>New Jersey</td>\n",
       "      <td>@JamesGBeattie @hayyyshayyy I still bleed thro...</td>\n",
       "    </tr>\n",
       "  </tbody>\n",
       "</table>\n",
       "</div>"
      ],
      "text/plain": [
       "              user     location  \\\n",
       "0     yourpraharsh  IIT Roorkee   \n",
       "1        DPHLGhost                \n",
       "2     PasiekaOnPol       Canada   \n",
       "3     amy_is_tired                \n",
       "4  batmaneatsbabie   New Jersey   \n",
       "\n",
       "                                                text  \n",
       "0  RT @DNeurosx: If you tested positive Covid,\\nD...  \n",
       "1  @lynseymukomel @RealKyleWilson Thank you for t...  \n",
       "2  RT @DLeBlancNB: Like many Canadians, in the la...  \n",
       "3  Another uncomfortable truth: some of the docto...  \n",
       "4  @JamesGBeattie @hayyyshayyy I still bleed thro...  "
      ]
     },
     "execution_count": 117,
     "metadata": {},
     "output_type": "execute_result"
    }
   ],
   "source": [
    "tweet_text = pd.DataFrame(data=data, \n",
    "                    columns=['user', \"location\",\"text\"])\n",
    "tweet_text"
   ]
  }
 ],
 "metadata": {
  "kernelspec": {
   "display_name": "Python 3",
   "language": "python",
   "name": "python3"
  },
  "language_info": {
   "codemirror_mode": {
    "name": "ipython",
    "version": 3
   },
   "file_extension": ".py",
   "mimetype": "text/x-python",
   "name": "python",
   "nbconvert_exporter": "python",
   "pygments_lexer": "ipython3",
   "version": "3.8.5"
  }
 },
 "nbformat": 4,
 "nbformat_minor": 5
}
