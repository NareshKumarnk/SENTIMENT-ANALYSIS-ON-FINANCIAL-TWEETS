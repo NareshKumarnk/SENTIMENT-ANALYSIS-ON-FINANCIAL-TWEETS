{
 "cells": [
  {
   "cell_type": "code",
   "execution_count": 2,
   "id": "trained-champion",
   "metadata": {},
   "outputs": [
    {
     "name": "stdout",
     "output_type": "stream",
     "text": [
      "Collecting neurolab\n",
      "  Downloading neurolab-0.3.5.tar.gz (645 kB)\n",
      "Building wheels for collected packages: neurolab\n",
      "  Building wheel for neurolab (setup.py): started\n",
      "  Building wheel for neurolab (setup.py): finished with status 'done'\n",
      "  Created wheel for neurolab: filename=neurolab-0.3.5-py3-none-any.whl size=22180 sha256=7ad43ce739b770032da40674e878c45f3c8cb18193870fe27afd17e56ce4fc2e\n",
      "  Stored in directory: c:\\users\\nares\\appdata\\local\\pip\\cache\\wheels\\9a\\86\\fe\\9a885ba792ded332e3c7316b612944d3875a5ea932c386fa9f\n",
      "Successfully built neurolab\n",
      "Installing collected packages: neurolab\n",
      "Successfully installed neurolab-0.3.5\n"
     ]
    }
   ],
   "source": [
    "!pip install neurolab"
   ]
  },
  {
   "cell_type": "code",
   "execution_count": 8,
   "id": "close-tragedy",
   "metadata": {},
   "outputs": [
    {
     "name": "stdout",
     "output_type": "stream",
     "text": [
      " Enter 1 for OR \n",
      " Enter 2 for AND \n",
      " Enter 3 for NOR \n",
      " Enter 4 for NAND \n",
      " Enter 5 for EXOR\n",
      "Choose the logic gate:5\n",
      "Epoch: 10; Error: 1.0;\n",
      "Epoch: 20; Error: 1.0;\n",
      "Epoch: 30; Error: 1.0;\n",
      "Epoch: 40; Error: 1.0;\n",
      "Epoch: 50; Error: 1.0;\n",
      "Epoch: 60; Error: 1.0;\n",
      "Epoch: 70; Error: 1.0;\n",
      "Epoch: 80; Error: 1.0;\n",
      "Epoch: 90; Error: 1.0;\n",
      "Epoch: 100; Error: 1.0;\n",
      "The maximum number of train epochs is reached\n"
     ]
    },
    {
     "data": {
      "image/png": "[encoded data removed]",
      "text/plain": [
       "<Figure size 432x288 with 1 Axes>"
      ]
     },
     "metadata": {
      "needs_background": "light"
     },
     "output_type": "display_data"
    }
   ],
   "source": [
    "import matplotlib.pyplot as plt\n",
    "import neurolab as nl\n",
    "input_1 = [[0, 0], [0, 1], [1, 0], [1, 1]]\n",
    "print(\" Enter 1 for OR \\n Enter 2 for AND \\n Enter 3 for NOR \\n Enter 4 for NAND \\n Enter 5 for EXOR\")\n",
    "flag = int(input(\"Choose the logic gate:\"))\n",
    "if(flag == 1):\n",
    "    target = [[0], [1], [1], [1]]\n",
    "if(flag == 2):\n",
    "    target = [[0], [0], [0], [1]]\n",
    "if(flag == 3):\n",
    "    target = [[1], [0], [0], [0]]\n",
    "if(flag == 4):\n",
    "    target = [[1], [1], [1], [0]]\n",
    "if(flag == 5):\n",
    "    target = [[0], [1], [1], [0]]\n",
    "net = nl.net.newp([[0, 1],[0, 1]], 1)\n",
    "error_progress = net.train(input_1, target, epochs=100, show=10, lr=0.1)\n",
    "plt.figure()\n",
    "plt.plot(error_progress)\n",
    "plt.xlabel('epochs')\n",
    "plt.ylabel('Training error')\n",
    "plt.grid()\n",
    "plt.show()"
   ]
  }
 ],
 "metadata": {
  "kernelspec": {
   "display_name": "Python 3",
   "language": "python",
   "name": "python3"
  },
  "language_info": {
   "codemirror_mode": {
    "name": "ipython",
    "version": 3
   },
   "file_extension": ".py",
   "mimetype": "text/x-python",
   "name": "python",
   "nbconvert_exporter": "python",
   "pygments_lexer": "ipython3",
   "version": "3.8.5"
  }
 },
 "nbformat": 4,
 "nbformat_minor": 5
}
